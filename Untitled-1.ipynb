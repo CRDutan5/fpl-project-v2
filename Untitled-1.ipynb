{
 "cells": [
  {
   "cell_type": "markdown",
   "metadata": {},
   "source": [
    "##FETCHING CURRENT TEAM##"
   ]
  },
  {
   "cell_type": "code",
   "execution_count": 42,
   "metadata": {},
   "outputs": [
    {
     "name": "stdout",
     "output_type": "stream",
     "text": [
      "[15, 255, 326, 495, 461, 23, 327, 182, 180, 351, 58, 521, 163, 309, 111]\n"
     ]
    }
   ],
   "source": [
    "import pandas as pd\n",
    "import requests\n",
    "from dotenv import load_dotenv\n",
    "import os\n",
    "\n",
    "load_dotenv()\n",
    "\n",
    "my_team_key = os.getenv(\"MY_TEAM_ID\")\n",
    "\n",
    "url = (f\"https://fantasy.premierleague.com/api/entry/{my_team_key}/event/8/picks/\")\n",
    "res = requests.get(url).json()\n",
    "\n",
    "current_team_df = pd.DataFrame(res[\"picks\"])\n",
    "current_team_ids = current_team_df[\"element\"].tolist()\n",
    "print(current_team_ids)"
   ]
  },
  {
   "cell_type": "code",
   "execution_count": null,
   "metadata": {},
   "outputs": [
    {
     "name": "stdout",
     "output_type": "stream",
     "text": [
      "chance_of_playing_next_round,chance_of_playing_this_round,code,cost_change_event,cost_change_event_fall,cost_change_start,cost_change_start_fall,dreamteam_count,element_type,ep_next,ep_this,event_points,first_name,form,id,in_dreamteam,news,news_added,now_cost,photo,points_per_game,second_name,selected_by_percent,special,squad_number,status,team,team_code,total_points,transfers_in,transfers_in_event,transfers_out,transfers_out_event,value_form,value_season,web_name,region,minutes,goals_scored,assists,clean_sheets,goals_conceded,own_goals,penalties_saved,penalties_missed,yellow_cards,red_cards,saves,bonus,bps,influence,creativity,threat,ict_index,starts,expected_goals,expected_assists,expected_goal_involvements,expected_goals_conceded,influence_rank,influence_rank_type,creativity_rank,creativity_rank_type,threat_rank,threat_rank_type,ict_index_rank,ict_index_rank_type,corners_and_indirect_freekicks_order,corners_and_indirect_freekicks_text,direct_freekicks_order,direct_freekicks_text,penalties_order,penalties_text,expected_goals_per_90,saves_per_90,expected_assists_per_90,expected_goal_involvements_per_90,expected_goals_conceded_per_90,goals_conceded_per_90,now_cost_rank,now_cost_rank_type,form_rank,form_rank_type,points_per_game_rank,points_per_game_rank_type,selected_rank,selected_rank_type,starts_per_90,clean_sheets_per_90\n",
      "100.0,100.0,154561,0,0,1,-1,1,1,1.8,2.3,3,David,1.3,15,False,,2024-09-25T21:30:06.211210Z,56,154561.jpg,4.0,Raya Martin,29.2,False,,a,1,3,40,1683068,15944,1389564,94254,0.2,7.1,Raya,200,900,0,0,3,11,0,0,0,2,0,32,6,137,266.8,0.0,0.0,26.8,10,0.00,0.01,0.01,10.65,19,6,665,72,663,72,172,7,,,,,,,0.0,3.2,0.0,0.0,1.06,1.1,102,1,219,21,52,7,7,1,1.0,0.3\n",
      ",,169528,0,0,2,-2,0,2,3.0,3.0,6,Antonee,3.0,255,False,,,47,169528.jpg,3.4,Robinson,15.6,False,,a,9,54,34,1533696,48307,847377,27442,0.6,7.2,Robinson,229,900,0,3,1,13,0,0,0,1,0,0,4,143,254.4,170.8,53.0,48.0,10,0.15,1.05,1.20,11.22,28,7,51,7,175,39,55,8,,,,,,,0.02,0.0,0.1,0.12,1.12,1.3,334,42,91,25,79,19,22,8,1.0,0.1\n",
      "100.0,,204716,0,0,3,-3,0,2,2.0,2.0,1,Ibrahima,1.0,326,False,,2024-11-02T18:30:07.678298Z,53,204716.jpg,4.0,Konaté,13.8,False,,a,12,14,40,1732664,37610,577103,119996,0.2,7.5,Konaté,73,794,1,1,4,6,0,0,0,3,0,0,1,172,204.0,31.6,59.0,29.6,9,0.77,0.11,0.88,7.26,62,20,257,76,164,34,152,41,,,,,,,0.09,0.0,0.01,0.1,0.82,0.68,153,18,247,76,51,7,25,9,1.02,0.45\n",
      "100.0,100.0,441164,0,0,0,0,1,2,2.2,2.2,1,Pedro,1.7,495,False,,2024-08-19T23:00:06.196679Z,55,441164.jpg,3.1,Porro,28.0,False,,a,18,6,31,1411450,70437,1978059,77528,0.3,5.6,Pedro Porro,200,897,1,0,2,11,0,0,0,2,0,0,1,145,226.0,276.6,102.0,60.6,10,0.72,1.26,1.98,11.31,45,15,15,3,96,8,35,3,2.0,,1.0,,,,0.07,0.0,0.13,0.2,1.13,1.1,120,12,186,50,113,30,8,3,1.0,0.2\n",
      ",,245719,0,0,1,-1,0,2,2.2,2.2,6,Taylor,2.7,461,False,,,41,245719.jpg,2.2,Harwood-Bellis,10.2,False,,a,17,20,22,617973,20353,549230,14850,0.7,5.4,Harwood-Bellis,241,769,1,0,1,15,0,0,0,3,0,0,0,94,230.0,84.2,94.0,40.9,9,0.99,0.11,1.10,18.11,40,13,142,30,106,12,81,15,,,,,,,0.12,0.0,0.01,0.13,2.12,1.76,576,156,109,33,190,58,45,17,1.05,0.12\n",
      ",,116216,0,0,-1,1,1,3,2.8,3.3,2,Leandro,2.3,23,False,,,69,116216.jpg,3.0,Trossard,2.2,False,,a,1,3,30,318559,3955,337548,26177,0.3,4.3,Trossard,21,567,2,1,2,8,0,0,0,0,1,0,3,106,127.6,119.5,145.0,39.0,7,1.53,0.38,1.91,5.23,156,56,100,73,66,38,90,55,,,,,4.0,,0.24,0.0,0.06,0.3,0.83,1.27,28,15,142,65,125,49,132,43,1.11,0.32\n",
      ",,244731,-1,1,2,-2,3,3,3.3,3.3,1,Luis,2.3,327,False,,,77,244731.jpg,6.1,Díaz,24.9,False,,a,12,14,61,3971315,72094,2400597,285604,0.3,7.9,Luis Díaz,48,556,5,2,5,3,0,0,0,0,0,0,8,197,262.0,161.2,246.0,66.9,7,2.89,1.16,4.05,4.15,22,6,57,47,26,15,25,18,,,,,,,0.47,0.0,0.19,0.66,0.67,0.49,16,10,144,66,9,6,11,6,1.13,0.81\n",
      "75.0,100.0,244851,0,0,5,-5,3,3,3.4,5.5,3,Cole,5.0,182,True,Knock - 75% chance of playing,2024-11-04T00:00:07.502354Z,110,244851.jpg,8.2,Palmer,54.4,False,,d,6,8,82,3727532,77371,1847750,234136,0.5,7.5,Palmer,241,865,7,5,2,12,0,0,0,3,0,0,13,347,422.8,374.1,257.0,105.5,10,4.73,2.50,7.23,13.16,2,1,4,4,25,14,4,3,1.0,,1.0,,1.0,,0.49,0.0,0.26,0.75,1.37,1.25,3,2,35,13,2,2,2,1,1.04,0.21\n",
      ",,517052,0,0,4,-4,2,4,4.8,5.8,1,Nicolas,5.3,180,False,,,79,517052.jpg,5.8,Jackson,17.0,False,,a,6,8,58,2601596,64551,1127004,141769,0.7,7.3,N.Jackson,189,778,6,3,2,11,0,0,0,4,0,0,9,243,294.4,139.5,360.0,79.4,10,5.89,0.32,6.21,12.42,13,2,75,3,5,2,11,3,,,,,,,0.68,0.0,0.04,0.72,1.44,1.27,14,5,26,9,12,5,20,5,1.16,0.23\n",
      "100.0,100.0,223094,-1,1,3,-3,3,4,4.3,4.3,2,Erling,3.3,351,True,,2024-09-13T15:00:06.985607Z,153,223094.jpg,7.7,Haaland,67.7,False,,a,13,43,77,2698408,13848,1185500,442176,0.2,5.0,Haaland,161,899,11,0,2,11,0,0,0,1,0,0,14,348,416.2,68.7,653.0,113.9,10,9.60,0.41,10.01,11.03,3,1,166,19,1,1,2,1,,,3.0,,1.0,,0.96,0.0,0.04,1.0,1.1,1.1,1,1,85,19,3,1,1,1,1.0,0.2\n",
      "100.0,100.0,178301,-1,1,0,0,2,4,3.0,3.5,2,Ollie,4.0,58,False,,2024-09-04T10:00:05.026467Z,90,178301.jpg,5.3,Watkins,24.6,False,,a,2,7,53,1950910,24824,2904544,284342,0.4,5.9,Watkins,241,776,5,2,4,11,0,0,0,0,0,0,7,177,214.6,107.1,334.0,65.1,10,4.78,0.56,5.34,8.95,57,7,116,8,9,4,26,7,,,,,2.0,,0.55,0.0,0.06,0.61,1.04,1.28,8,2,58,16,14,6,12,2,1.16,0.46\n",
      ",,37096,0,0,0,0,0,1,1.7,1.7,2,Łukasz,1.7,521,False,,,40,37096.jpg,2.0,Fabiański,17.7,False,,a,19,21,6,1040716,38423,487900,14431,0.4,1.5,Fabianski,172,225,0,0,0,5,0,0,0,0,0,9,0,17,69.6,0.0,0.0,6.9,2,0.00,0.00,0.00,5.58,250,25,430,13,390,5,328,25,,,,,,,0.0,3.6,0.0,0.0,2.23,2.0,580,43,169,19,217,24,19,2,0.8,0.0\n",
      "100.0,100.0,179268,0,0,0,0,0,2,0.2,1.2,1,Marc,0.7,163,False,,2024-10-06T22:00:07.319833Z,50,179268.jpg,1.9,Cucurella Saseta,4.1,False,,a,6,8,17,310083,4516,572269,16800,0.1,3.4,Cucurella,200,647,0,0,2,8,0,0,0,5,0,0,0,89,103.0,47.8,18.0,16.9,7,0.04,0.66,0.70,8.55,192,76,217,56,273,82,244,81,,,,,,,0.01,0.0,0.09,0.1,1.19,1.11,198,22,290,99,238,77,86,34,0.97,0.28\n",
      ",,157668,0,0,0,0,0,3,3.0,3.0,2,Harry,3.0,309,False,,,45,157668.jpg,2.2,Winks,12.8,False,,a,11,13,20,1110517,28689,1103747,62468,0.7,4.4,Winks,241,765,0,2,0,16,0,0,0,3,0,0,0,138,146.4,205.6,14.0,36.7,8,0.12,1.14,1.26,16.01,133,45,33,29,292,159,99,61,2.0,,,,,,0.01,0.0,0.13,0.14,1.88,1.88,366,231,88,37,196,84,28,8,0.94,0.0\n",
      ",,508395,0,0,-1,1,0,3,0.7,0.7,1,Yehor,0.7,111,False,,,44,508395.jpg,1.0,Yarmoliuk,3.2,False,,a,4,94,6,272588,20831,240503,18258,0.2,1.4,Yarmoliuk,225,127,0,0,0,4,0,0,0,1,0,0,0,27,30.4,25.7,13.0,6.8,1,0.22,0.05,0.27,3.77,327,149,273,161,295,162,330,162,,,,,,,0.16,0.0,0.04,0.2,2.67,2.83,524,303,269,125,361,169,105,32,0.71,0.0\n",
      "\n"
     ]
    }
   ],
   "source": [
    "main_url = \"https://fantasy.premierleague.com/api/bootstrap-static/\"\n",
    "main_response = requests.get(main_url).json()\n",
    "\n",
    "all_premier_league_players = sorted(main_response[\"elements\"], key= lambda x: x['id'])\n",
    "my_players_details = []\n",
    "\n",
    "for player_id in current_team_ids:\n",
    "    my_players_details.append(all_premier_league_players[player_id - 1])\n",
    "\n",
    "my_players_df = pd.DataFrame(my_players_details)"
   ]
  }
 ],
 "metadata": {
  "kernelspec": {
   "display_name": ".venv",
   "language": "python",
   "name": "python3"
  },
  "language_info": {
   "codemirror_mode": {
    "name": "ipython",
    "version": 3
   },
   "file_extension": ".py",
   "mimetype": "text/x-python",
   "name": "python",
   "nbconvert_exporter": "python",
   "pygments_lexer": "ipython3",
   "version": "3.11.10"
  }
 },
 "nbformat": 4,
 "nbformat_minor": 2
}
